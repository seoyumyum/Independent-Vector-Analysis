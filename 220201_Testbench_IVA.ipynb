{
 "cells": [
  {
   "cell_type": "code",
   "execution_count": 7,
   "id": "af6aef6d",
   "metadata": {},
   "outputs": [
    {
     "data": {
      "text/plain": [
       "<module 'MIC_Signal_Mod' from 'G:\\\\My Drive\\\\Personal_Folder\\\\Python_Codes\\\\SeeCorner\\\\MUSE_codes\\\\MIC_Signal_Mod.py'>"
      ]
     },
     "execution_count": 7,
     "metadata": {},
     "output_type": "execute_result"
    }
   ],
   "source": [
    "\n",
    "import numpy as np\n",
    "import random\n",
    "from numpy.linalg import*\n",
    "import matplotlib.pyplot as plt\n",
    "from numpy import r_, exp, cos, sin, pi, zeros, ones, hanning, sqrt, log, floor, reshape, mean\n",
    "from scipy import signal\n",
    "from numpy.fft import fft\n",
    "import math\n",
    "import time\n",
    "import scipy.optimize as opt\n",
    "\n",
    "import scipy.io as sio\n",
    "import scipy.io.wavfile\n",
    "import sounddevice as sd\n",
    "from IPython.display import Audio\n",
    "\n",
    "from mpl_toolkits.mplot3d import Axes3D\n",
    "from matplotlib.ticker import LinearLocator, FormatStrFormatter\n",
    "import copy\n",
    "get_ipython().run_line_magic('matplotlib', 'inline')\n",
    "import librosa\n",
    "import librosa.display\n",
    "\n",
    "import importlib\n",
    "\n",
    "\n",
    "import functions as lib_HS \n",
    "importlib.reload(lib_HS)\n",
    "\n",
    "import itertools \n",
    "\n",
    "import ConvBSS_IVA_NG \n",
    "importlib.reload(ConvBSS_IVA_NG)\n",
    "from ConvBSS_IVA_NG import *\n",
    "\n",
    "\n",
    "import MIC_Signal_Mod as MIC_Access\n",
    "importlib.reload(MIC_Access)\n"
   ]
  },
  {
   "cell_type": "code",
   "execution_count": 3,
   "id": "2a4e425b",
   "metadata": {},
   "outputs": [
    {
     "name": "stdout",
     "output_type": "stream",
     "text": [
      "[10.81605919  9.08186293 11.98752459 10.00808383 11.56235343  7.60182595\n",
      "  9.91867348 11.150898    9.29773915  9.57081537 10.85136336]\n"
     ]
    },
    {
     "name": "stderr",
     "output_type": "stream",
     "text": [
      "<ipython-input-3-e29d531107a6>:15: VisibleDeprecationWarning: Creating an ndarray from ragged nested sequences (which is a list-or-tuple of lists-or-tuples-or ndarrays with different lengths or shapes) is deprecated. If you meant to do this, you must specify 'dtype=object' when creating the ndarray.\n",
      "  Data_numsrc = np.array([[0],[0,1],[0,1,2],[0,1,2,3],[0,1,2,3,4]])\n"
     ]
    }
   ],
   "source": [
    "## LibriTTS dataset import\n",
    "N_test = 11\n",
    "N_len = 100000\n",
    "TTS = np.zeros((N_test,N_len))\n",
    "for i in range(1,N_test+1):\n",
    "\n",
    "    TTS_i_raw, fs_MIC = librosa.load('./TTS_dataset/TTS_norm_'+str(i)+'.wav', sr=None)\n",
    "    TTS[i-1,:] = TTS_i_raw[:N_len]\n",
    "\n",
    "\n",
    "print(np.linalg.norm(TTS,ord=2,axis=1))\n",
    "Data_perm = np.array([[0,1,2],[1,2,3],[2,3,4],[3,4,5],[4,5,6],[5,6,7],[6,7,8],[7,8,9],[8,9,10],[9,10,0],[10,0,2],\n",
    "                     [0,2,4],[2,4,6],[4,6,8],[10,1,3],[1,3,5],[3,5,7],[5,7,9],[7,9,0],[0,3,6],[3,6,9]])\n",
    "#Data_numsrc = np.array([[10],[10,1],[10,1,2],[10,1,2,3],[10,1,2,3,4]])\n",
    "Data_numsrc = np.array([[0],[0,1],[0,1,2],[0,1,2,3],[0,1,2,3,4]])"
   ]
  },
  {
   "cell_type": "code",
   "execution_count": 4,
   "id": "aaea8878",
   "metadata": {},
   "outputs": [],
   "source": [
    "############# MIC parameter\n",
    "d = 0.05 ## 5 cm \n",
    "SNR = 15\n",
    "############# Room parameter\n",
    "Range = 3          # in meter\n",
    "Room_len = 10      # in meter\n",
    "z = 1000\n",
    "T_reverb = 0.45    ## in second\n",
    "nsample = 4096\n",
    "dim = 2\n",
    "order = 0\n",
    "vp = 343\n",
    "#################################"
   ]
  },
  {
   "cell_type": "code",
   "execution_count": 8,
   "id": "701a0b3f",
   "metadata": {},
   "outputs": [
    {
     "name": "stdout",
     "output_type": "stream",
     "text": [
      "1 iterations: Objective= -0.03389610769065431 , dObj= 0.08570313593821666\n",
      "21 iterations: Objective= -1.447722025481689 , dObj= 0.051130326423317385\n",
      "41 iterations: Objective= -1.9525130938381292 , dObj= 0.007279693269524046\n",
      "61 iterations: Objective= -1.991684958376543 , dObj= 0.00021085192152092702\n",
      "81 iterations: Objective= -1.99317948174512 , dObj= 6.271935877810719e-05\n",
      "101 iterations: Objective= -1.9963147832713057 , dObj= 0.0003077255989847316\n",
      "121 iterations: Objective= -2.012363461930432 , dObj= 0.0014979808211985635\n",
      "141 iterations: Objective= -2.057816254960429 , dObj= 0.0021503690994708613\n",
      "161 iterations: Objective= -2.0773039171324124 , dObj= 0.00041603791357536224\n",
      "181 iterations: Objective= -2.0822920146743864 , dObj= 0.00013416360596263388\n",
      "201 iterations: Objective= -2.083668567208772 , dObj= 3.191639537769575e-05\n",
      "221 iterations: Objective= -2.0840249001229356 , dObj= 1.019926829437523e-05\n",
      "241 iterations: Objective= -2.0841599908492823 , dObj= 4.584586014377834e-06\n",
      "261 iterations: Objective= -2.0842257308631735 , dObj= 2.3883957411818812e-06\n",
      "Converged\n"
     ]
    }
   ],
   "source": [
    "### IVA BSS\n",
    "Angle = [170, 70, -30]\n",
    "N_fft = 512\n",
    "N_hop = int(0.25*N_fft)\n",
    "lr = 0.1\n",
    "maxiter = 1000\n",
    "tol = 1e-6\n",
    "\n",
    "M = 2  # number of MIC\n",
    "K = 3  # number of source\n",
    " \n",
    "SigVec = TTS[Data_numsrc[K-1],:]\n",
    "X, _ = MIC_Access.MixGen_RIR(SigVec, Angle[:K], 0, fs_MIC, SNR, vp, d, Range, Room_len, z, T_reverb, nsample, dim, order)\n",
    "\n",
    "\n",
    "y_t, Y, A = ConvBSS_IVA_NG(X, fs_MIC, N_fft, N_hop, None, lr, maxiter, tol)\n",
    "\n"
   ]
  },
  {
   "cell_type": "code",
   "execution_count": null,
   "id": "75a9a5ea",
   "metadata": {},
   "outputs": [],
   "source": []
  },
  {
   "cell_type": "code",
   "execution_count": null,
   "id": "74d01f70",
   "metadata": {},
   "outputs": [],
   "source": [
    "f = np.linspace(0,fs_MIC/2, num=int(N_fft/2+1))\n",
    "fmax = 5e3\n",
    "f_clip_min = 300\n",
    "f_clip_max = fmax/2.5\n",
    "\n",
    "\n",
    "    \n",
    "### Angle estim. and variances ###\n",
    "\n",
    "f_L = np.array(np.where(f<f_clip_max)).flatten()\n",
    "r_ji = np.zeros((len(f_L), 2), dtype='float')\n",
    "\n",
    "for freq in f_L:\n",
    "    if freq==0:\n",
    "        continue\n",
    "    for i in range(2):\n",
    "        r_ji[freq,i] = (vp/d)*np.angle(A[1,i,freq]/A[0,i,freq])/(2*np.pi*f[freq])    #refernce MIC index = 0\n",
    "        #r_ji[freq,i] = np.arccos((vp/d)*np.angle(A_f_jica[freq,1,i]/A_f_jica[freq,0,i])/(2*np.pi*f[freq]))\n",
    "\n",
    "        # r_f : freq x src #\n",
    "## Cluters\n",
    "\n",
    "r_feat_0 = lib_HS.rej_outlier(r_ji[np.min(np.where(f>f_clip_min)):,0])\n",
    "r_feat_1 = lib_HS.rej_outlier(r_ji[np.min(np.where(f>f_clip_min)):,1])\n",
    "clus_k = np.array([np.average(r_feat_0), np.average(r_feat_1)])\n",
    "clus_k_std = np.array([np.std(r_feat_0), np.std(r_feat_1)])\n",
    "\n",
    "clist = ['r','b','g']\n",
    "\n",
    "\n",
    "for i in range(2):\n",
    "\n",
    "    plt.plot(f[f_L[np.min(np.where(f>f_clip_min)):]],r_ji[np.min(np.where(f>f_clip_min)):,i], color=clist[i],marker='o',ms=2,ls=\"None\",label=i)\n",
    "    plt.plot(clus_k[i], color=clist[i],marker='o',ms=10, mec='Cyan')\n",
    "\n",
    "#plt.title('Truth AoAs[deg] : '+ str(Angle), fontweight='bold')\n",
    "plt.xlabel(\"freq[Hz]\")\n",
    "plt.ylabel(\"in rad\")\n",
    "plt.grid(ls='--')    \n",
    "plt.legend()\n",
    "plt.show()\n",
    "\n",
    "print('Average features = ',clus_k)\n",
    "print('STDs = ',clus_k_std)\n",
    "\n",
    "'''\n",
    "angle_store_1 = []\n",
    "angle_store_2 = []\n",
    "for i in range(5,55):\n",
    "    angle_store_1.append(np.angle(A[1,0,i]/A[0,0,i])/(2*np.pi*f[i]))\n",
    "    angle_store_2.append(np.angle(A[1,1,i]/A[0,1,i])/(2*np.pi*f[i]))\n",
    "\n",
    "\n",
    "plt.plot(angle_store_1,'.')\n",
    "plt.plot(angle_store_2,'.')   ''' "
   ]
  },
  {
   "cell_type": "code",
   "execution_count": null,
   "id": "5a2aa1de",
   "metadata": {},
   "outputs": [],
   "source": [
    "plt.imshow(abs(Y[1,:]))"
   ]
  },
  {
   "cell_type": "code",
   "execution_count": null,
   "id": "c9ed270d",
   "metadata": {},
   "outputs": [],
   "source": [
    "print(np.var(angle_store_1),np.var(angle_store_2))   ## K = 2"
   ]
  },
  {
   "cell_type": "code",
   "execution_count": null,
   "id": "e7b07969",
   "metadata": {},
   "outputs": [],
   "source": [
    "\n",
    "f"
   ]
  },
  {
   "cell_type": "code",
   "execution_count": null,
   "id": "3c62abba",
   "metadata": {},
   "outputs": [],
   "source": [
    "Audio(y_t[0],rate=fs_MIC)"
   ]
  },
  {
   "cell_type": "code",
   "execution_count": null,
   "id": "c8c3d578",
   "metadata": {},
   "outputs": [],
   "source": [
    "Audio(y_t[1],rate=fs_MIC)"
   ]
  },
  {
   "cell_type": "code",
   "execution_count": null,
   "id": "c288189a",
   "metadata": {},
   "outputs": [],
   "source": [
    "test = np.array([[1,2],[3,4]])"
   ]
  },
  {
   "cell_type": "code",
   "execution_count": null,
   "id": "fc4ffd46",
   "metadata": {},
   "outputs": [],
   "source": [
    "sum(sum(test))"
   ]
  },
  {
   "cell_type": "code",
   "execution_count": null,
   "id": "9328f285",
   "metadata": {},
   "outputs": [],
   "source": []
  }
 ],
 "metadata": {
  "kernelspec": {
   "display_name": "Pytorch-kernel",
   "language": "python",
   "name": "pytorch-kernel"
  },
  "language_info": {
   "codemirror_mode": {
    "name": "ipython",
    "version": 3
   },
   "file_extension": ".py",
   "mimetype": "text/x-python",
   "name": "python",
   "nbconvert_exporter": "python",
   "pygments_lexer": "ipython3",
   "version": "3.9.4"
  }
 },
 "nbformat": 4,
 "nbformat_minor": 5
}
